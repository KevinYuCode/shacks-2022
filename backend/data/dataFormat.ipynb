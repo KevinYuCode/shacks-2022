{
 "cells": [
  {
   "cell_type": "code",
   "execution_count": 4,
   "metadata": {},
   "outputs": [],
   "source": [
    "import pandas as pd\n",
    "import re\n",
    "import numpy as np"
   ]
  },
  {
   "cell_type": "code",
   "execution_count": 2,
   "metadata": {},
   "outputs": [],
   "source": [
    "with open('myBadSpendingHabits.txt', 'r') as file:\n",
    "    filedata = file.read()\n",
    "\n",
    "filedata = filedata.replace(',' , '.')\n",
    "\n",
    "with open('myBadSpendingHabitsFormat.txt', 'w') as file:\n",
    "    file.write(filedata)"
   ]
  },
  {
   "cell_type": "code",
   "execution_count": 12,
   "metadata": {},
   "outputs": [],
   "source": [
    "#read_file = pd.read_csv(r'myBadSpendingHabits.txt', sep='\\s+', header=None)\n",
    "#read_file.to_csv(r'spendingHabits.csv', index=None)\n",
    "\n",
    "with open('myBadSpendingHabitsFormat.txt') as infile:\n",
    "    data = re.sub('\\t+', ',', infile.read())\n",
    "    data = data.replace(',\\n', '\\n')\n",
    "\n",
    "    print(data, file=open('spendingHabits.csv', 'w'))   \n",
    "\n",
    "read_file = pd.read_csv(r'spendingHabits.csv')\n",
    "read_file.to_csv(r'spendingHabits.csv', index=False, header=[\"Transaction Date\", \"Registration Date\", \"Transaction Number\", \"Description\", \"Amount ($)\"]) "
   ]
  },
  {
   "cell_type": "code",
   "execution_count": 13,
   "metadata": {},
   "outputs": [],
   "source": [
    "info = pd.read_csv(r\"spendingHabits.csv\")"
   ]
  },
  {
   "cell_type": "code",
   "execution_count": 23,
   "metadata": {},
   "outputs": [],
   "source": [
    "#info.head(20)\n",
    "dates = info['Transaction Date'].values\n",
    "desc = info['Description'].values\n",
    "amount = info['Amount ($)'].values"
   ]
  },
  {
   "cell_type": "code",
   "execution_count": 24,
   "metadata": {},
   "outputs": [],
   "source": [
    "datesList = dates.tolist()\n",
    "descList = desc.tolist()\n",
    "amountList = amount.tolist()"
   ]
  },
  {
   "cell_type": "code",
   "execution_count": 25,
   "metadata": {},
   "outputs": [
    {
     "name": "stdout",
     "output_type": "stream",
     "text": [
      "['12 JUI 2022', '13 JUI 2022', '13 JUI 2022', '15 JUI 2022', '15 JUI 2022', '15 JUI 2022', '15 JUI 2022', '16 JUI 2022', '16 JUI 2022', '16 JUI 2022', '19 JUI 2022', '20 JUI 2022', '20 JUI 2022', '20 JUI 2022', '21 JUI 2022', '21 JUI 2022', '21 JUI 2022', '22 JUI 2022', '22 JUI 2022', '22 JUI 2022', '24 JUI 2022', '26 JUI 2022', '26 JUI 2022', '28 JUI 2022', '28 JUI 2022']\n"
     ]
    }
   ],
   "source": [
    "userInfo = {\"dates\": datesList, \"description\": descList, \"amount\": amountList}\n",
    "print(userInfo[\"dates\"])"
   ]
  }
 ],
 "metadata": {
  "kernelspec": {
   "display_name": "Python 3.9.7 64-bit",
   "language": "python",
   "name": "python3"
  },
  "language_info": {
   "codemirror_mode": {
    "name": "ipython",
    "version": 3
   },
   "file_extension": ".py",
   "mimetype": "text/x-python",
   "name": "python",
   "nbconvert_exporter": "python",
   "pygments_lexer": "ipython3",
   "version": "3.9.7"
  },
  "orig_nbformat": 4,
  "vscode": {
   "interpreter": {
    "hash": "2cc0532ee83a55a8ed35b4eb27a95123a5d2cb5ad676f9b89aaf8c32d4359005"
   }
  }
 },
 "nbformat": 4,
 "nbformat_minor": 2
}
